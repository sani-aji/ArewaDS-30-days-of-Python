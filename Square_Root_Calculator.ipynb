{
 "cells": [
  {
   "cell_type": "code",
   "execution_count": null,
   "metadata": {},
   "outputs": [],
   "source": [
    "x = float(input(\"Please, enter a number:\",))\n",
    "if x >=0:\n",
    "    squareroot = x**0.5\n",
    "    print(\"The square root of\", x ,\"is:\",squareroot)\n",
    "else:\n",
    "    print(\"Please, put a non negative number\")"
   ]
  }
 ],
 "metadata": {
  "kernelspec": {
   "display_name": "Python 3",
   "language": "python",
   "name": "python3"
  },
  "language_info": {
   "name": "python",
   "version": "3.9.18"
  }
 },
 "nbformat": 4,
 "nbformat_minor": 2
}
