{
 "cells": [
  {
   "cell_type": "code",
   "execution_count": null,
   "metadata": {},
   "outputs": [],
   "source": [
    "#1 Create an empty tuple\n",
    "empt_tuple = tuple()\n",
    "print(empt_tuple)"
   ]
  },
  {
   "cell_type": "code",
   "execution_count": null,
   "metadata": {},
   "outputs": [],
   "source": [
    "#2 Create a tuple containing names of your sisters and your brothers (imaginary siblings are fine)\n",
    "bros = ('Ahmad', 'Adamu')\n",
    "sis = ('Aisha', 'Hafsa', 'Maryam')\n",
    "#3 Join brothers and sisters tuples and assign it to siblings\n",
    "names_siblings = bros + sis\n",
    "print(names_siblings)"
   ]
  },
  {
   "cell_type": "code",
   "execution_count": null,
   "metadata": {},
   "outputs": [],
   "source": [
    "#4 How many siblings do you have?\n",
    "print(len(names_siblings))"
   ]
  },
  {
   "cell_type": "code",
   "execution_count": null,
   "metadata": {},
   "outputs": [],
   "source": [
    "#5 Modify the siblings tuple and add the name of your father and mother and assign it to family_members\n",
    "#tuple is not modifiable, we can create a new tuple\n",
    "Family_members = ('Ahmad', 'Adamu', 'Aisha', 'Hafsa', 'Maryam', 'Muhammad', 'Aishatu')\n",
    "print(Family_members)"
   ]
  },
  {
   "cell_type": "code",
   "execution_count": null,
   "metadata": {},
   "outputs": [],
   "source": [
    "#Level 2\n",
    "#1 Unpack siblings and parents from family_members\n",
    "siblings = Family_members[0:5]\n",
    "parents = Family_members[-2:]\n",
    "print(siblings)\n",
    "print(parents)"
   ]
  },
  {
   "cell_type": "code",
   "execution_count": null,
   "metadata": {},
   "outputs": [],
   "source": [
    "#2 Create fruits, vegetables and animal products tuples. Join the three tuples and assign it to a variable called food_stuff_tp.\n",
    "fruits = ('Banana', 'Pineapple', 'Mango')\n",
    "Veg = ('Lettuce', 'Carrots', 'Cabbage')\n",
    "Animal_prod = ('Meat', 'Fats','Milk')\n",
    "Food_stuff_tp = fruits+Veg+Animal_prod\n",
    "print(Food_stuff_tp)\n",
    "#3 Change the about food_stuff_tp tuple to a food_stuff_lt list\n",
    "Food_stuff_it = list(Food_stuff_tp)\n",
    "print(Food_stuff_it)"
   ]
  },
  {
   "cell_type": "code",
   "execution_count": null,
   "metadata": {},
   "outputs": [],
   "source": [
    "#4 Slice out the middle item or items from the food_stuff_tp tuple or food_stuff_lt list.\n",
    "print(Food_stuff_it[4:5])"
   ]
  },
  {
   "cell_type": "code",
   "execution_count": null,
   "metadata": {},
   "outputs": [],
   "source": [
    "#5 Slice out the first three items and the last three items from food_staff_lt list\n",
    "print(Food_stuff_it[0:3])\n",
    "print(Food_stuff_it[-3:])"
   ]
  },
  {
   "cell_type": "code",
   "execution_count": null,
   "metadata": {},
   "outputs": [],
   "source": [
    "#6 Delete the food_staff_tp tuple completely\n",
    "del Food_stuff_tp\n"
   ]
  },
  {
   "cell_type": "code",
   "execution_count": null,
   "metadata": {},
   "outputs": [],
   "source": [
    "nordic_countries = ('Denmark', 'Finland','Iceland', 'Norway', 'Sweden')\n",
    "#7 Check if 'Estonia' is a nordic country\n",
    "print('Estonia' in nordic_countries)\n",
    "#8 Check if 'Iceland' is a nordic country\n",
    "print('Iceland' in nordic_countries)"
   ]
  }
 ],
 "metadata": {
  "kernelspec": {
   "display_name": "datascience",
   "language": "python",
   "name": "python3"
  },
  "language_info": {
   "codemirror_mode": {
    "name": "ipython",
    "version": 3
   },
   "file_extension": ".py",
   "mimetype": "text/x-python",
   "name": "python",
   "nbconvert_exporter": "python",
   "pygments_lexer": "ipython3",
   "version": "3.8.18"
  }
 },
 "nbformat": 4,
 "nbformat_minor": 2
}
