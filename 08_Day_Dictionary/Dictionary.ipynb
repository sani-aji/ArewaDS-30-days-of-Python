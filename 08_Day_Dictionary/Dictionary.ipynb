{
 "cells": [
  {
   "cell_type": "code",
   "execution_count": 1,
   "metadata": {},
   "outputs": [
    {
     "name": "stdout",
     "output_type": "stream",
     "text": [
      "{}\n"
     ]
    }
   ],
   "source": [
    "#1 Create an empty dictionary called dog\n",
    "dog = dict()\n",
    "print(dog)"
   ]
  },
  {
   "cell_type": "code",
   "execution_count": 3,
   "metadata": {},
   "outputs": [
    {
     "name": "stdout",
     "output_type": "stream",
     "text": [
      "{'Name': 'Puppy', 'color': 'brown', 'legs': '4', 'age': '29'}\n"
     ]
    }
   ],
   "source": [
    "#2 Add name, color, breed, legs, age to the dog dictionary\n",
    "dog['Name'] = 'Puppy'\n",
    "dog['color'] = 'brown'\n",
    "dog['legs'] = '4'\n",
    "dog['age'] = '29'\n",
    "print(dog)"
   ]
  },
  {
   "cell_type": "code",
   "execution_count": 4,
   "metadata": {},
   "outputs": [
    {
     "name": "stdout",
     "output_type": "stream",
     "text": [
      "{'first_name': 'Adamu', 'last_name': 'Ahmad', 'gender': 'Male', 'age': '20', 'marital_status': 'Married', 'skills': ['excel', 'python', 'communication'], 'country': 'Finland', 'city': 'Helsinki', 'address': {'house': '13', 'street': 'New Line', 'Postal_Code': '03-045'}}\n"
     ]
    }
   ],
   "source": [
    "#3 Create a student dictionary and add first_name, last_name, gender, age, marital status, skills, country, city and address as keys for the dictionary\n",
    "Stud_dict = {'first_name':'Adamu', 'last_name':'Ahmad', 'gender':'Male', 'age':'20','marital_status':'Married','skills':['excel','python', 'communication'], 'country':'Finland', 'city':'Helsinki', 'address':{'house':'13', 'street':'New Line', 'Postal_Code':'03-045'}}\n",
    "print(Stud_dict)"
   ]
  },
  {
   "cell_type": "code",
   "execution_count": 5,
   "metadata": {},
   "outputs": [
    {
     "name": "stdout",
     "output_type": "stream",
     "text": [
      "9\n"
     ]
    }
   ],
   "source": [
    "#4 Get the length of the student dictionary\n",
    "print(len(Stud_dict))"
   ]
  },
  {
   "cell_type": "code",
   "execution_count": 7,
   "metadata": {},
   "outputs": [
    {
     "name": "stdout",
     "output_type": "stream",
     "text": [
      "['excel', 'python', 'communication']\n",
      "<class 'list'>\n"
     ]
    }
   ],
   "source": [
    "#5 Get the value of skills and check the data type, it should be a list\n",
    "print (Stud_dict['skills'])\n",
    "print (type(Stud_dict['skills']))"
   ]
  },
  {
   "cell_type": "code",
   "execution_count": 8,
   "metadata": {},
   "outputs": [
    {
     "name": "stdout",
     "output_type": "stream",
     "text": [
      "{'first_name': 'Adamu', 'last_name': 'Ahmad', 'gender': 'Male', 'age': '20', 'marital_status': 'Married', 'skills': ['excel', 'python', 'communication', 'Problem Solving'], 'country': 'Finland', 'city': 'Helsinki', 'address': {'house': '13', 'street': 'New Line', 'Postal_Code': '03-045'}}\n"
     ]
    }
   ],
   "source": [
    "#6 Modify the skills values by adding one or two skills\n",
    "Stud_dict['skills'].append('Problem Solving')\n",
    "print(Stud_dict)"
   ]
  },
  {
   "cell_type": "code",
   "execution_count": 9,
   "metadata": {},
   "outputs": [
    {
     "name": "stdout",
     "output_type": "stream",
     "text": [
      "dict_keys(['first_name', 'last_name', 'gender', 'age', 'marital_status', 'skills', 'country', 'city', 'address'])\n"
     ]
    }
   ],
   "source": [
    "#7 Get the dictionary keys as a list\n",
    "print(Stud_dict.keys())"
   ]
  },
  {
   "cell_type": "code",
   "execution_count": 10,
   "metadata": {},
   "outputs": [
    {
     "name": "stdout",
     "output_type": "stream",
     "text": [
      "dict_values(['Adamu', 'Ahmad', 'Male', '20', 'Married', ['excel', 'python', 'communication', 'Problem Solving'], 'Finland', 'Helsinki', {'house': '13', 'street': 'New Line', 'Postal_Code': '03-045'}])\n"
     ]
    }
   ],
   "source": [
    "#8 Get the dictionary values as a list\n",
    "print(Stud_dict.values())"
   ]
  },
  {
   "cell_type": "code",
   "execution_count": 11,
   "metadata": {},
   "outputs": [
    {
     "name": "stdout",
     "output_type": "stream",
     "text": [
      "dict_items([('first_name', 'Adamu'), ('last_name', 'Ahmad'), ('gender', 'Male'), ('age', '20'), ('marital_status', 'Married'), ('skills', ['excel', 'python', 'communication', 'Problem Solving']), ('country', 'Finland'), ('city', 'Helsinki'), ('address', {'house': '13', 'street': 'New Line', 'Postal_Code': '03-045'})])\n"
     ]
    }
   ],
   "source": [
    "#9 Change the dictionary to a list of tuples using items() method\n",
    "items = Stud_dict.items()\n",
    "print(items)"
   ]
  },
  {
   "cell_type": "code",
   "execution_count": 12,
   "metadata": {},
   "outputs": [
    {
     "name": "stdout",
     "output_type": "stream",
     "text": [
      "{'last_name': 'Ahmad', 'gender': 'Male', 'age': '20', 'marital_status': 'Married', 'skills': ['excel', 'python', 'communication', 'Problem Solving'], 'country': 'Finland', 'city': 'Helsinki', 'address': {'house': '13', 'street': 'New Line', 'Postal_Code': '03-045'}}\n"
     ]
    }
   ],
   "source": [
    "#10 Delete one of the items in the dictionary\n",
    "del Stud_dict['first_name']\n",
    "print(Stud_dict)"
   ]
  },
  {
   "cell_type": "code",
   "execution_count": 13,
   "metadata": {},
   "outputs": [],
   "source": [
    "#11 Delete one of the dictionaries\n",
    "del dog"
   ]
  }
 ],
 "metadata": {
  "kernelspec": {
   "display_name": "datascience",
   "language": "python",
   "name": "python3"
  },
  "language_info": {
   "codemirror_mode": {
    "name": "ipython",
    "version": 3
   },
   "file_extension": ".py",
   "mimetype": "text/x-python",
   "name": "python",
   "nbconvert_exporter": "python",
   "pygments_lexer": "ipython3",
   "version": "3.8.18"
  }
 },
 "nbformat": 4,
 "nbformat_minor": 2
}
