{
 "cells": [
  {
   "cell_type": "markdown",
   "metadata": {},
   "source": [
    "#### 1. Message: Write a function called display_message() that prints one sentence telling everyone what you are learning about in this chapter. Call the function, and make sure the message displays correctly"
   ]
  },
  {
   "cell_type": "code",
   "execution_count": 1,
   "metadata": {},
   "outputs": [],
   "source": [
    "def display_message():\n",
    "    \"\"\"Display what I am learning\"\"\"\n",
    "    print(\"Hello everyone, I am learning about functions\")"
   ]
  },
  {
   "cell_type": "code",
   "execution_count": 2,
   "metadata": {},
   "outputs": [
    {
     "name": "stdout",
     "output_type": "stream",
     "text": [
      "Hello everyone, I am learning about functions\n"
     ]
    }
   ],
   "source": [
    "display_message()"
   ]
  },
  {
   "cell_type": "markdown",
   "metadata": {},
   "source": [
    "#### 2. Favorite Book: Write a function called favorite_book() that accepts one parameter, title. The function should print a message, such as One of my favorite books is Alice in Wonderland. Call the function, making sure to include a book title as an argument in the function call."
   ]
  },
  {
   "cell_type": "code",
   "execution_count": 3,
   "metadata": {},
   "outputs": [],
   "source": [
    "def favorite_book(title):\n",
    "    \"\"\"A function that prints my favorite book\"\"\"\n",
    "    print(f'One of my favorite books is {title}.')"
   ]
  },
  {
   "cell_type": "code",
   "execution_count": 5,
   "metadata": {},
   "outputs": [
    {
     "name": "stdout",
     "output_type": "stream",
     "text": [
      "One of my favorite books is Alice in WonderLand.\n",
      "One of my favorite books is Atomic Habits.\n"
     ]
    }
   ],
   "source": [
    "favorite_book('Alice in WonderLand')\n",
    "favorite_book('Atomic Habits')"
   ]
  },
  {
   "cell_type": "markdown",
   "metadata": {},
   "source": [
    "#### 3. T-Shirt: Write a function called make_shirt() that accepts a size and the text of a message that should be printed on the shirt. The function should print a sentence summarizing the size of the shirt and the message printed on it. Call the function once using positional arguments to make a shirt. Call the function a second time using keyword arguments"
   ]
  },
  {
   "cell_type": "code",
   "execution_count": 6,
   "metadata": {},
   "outputs": [],
   "source": [
    "def make_shirt(size, text):\n",
    "    \"\"\" print a sentence summarizing the size of the shirt and the message printed on it\"\"\"\n",
    "    print(f'The size of the shirt is {size}, and {text} should be written on it.')"
   ]
  },
  {
   "cell_type": "code",
   "execution_count": 10,
   "metadata": {},
   "outputs": [
    {
     "name": "stdout",
     "output_type": "stream",
     "text": [
      "The size of the shirt is 40, and Sani should be written on it.\n",
      "The size of the shirt is 40, and Sani should be written on it.\n",
      "The size of the shirt is 40, and Sani should be written on it.\n"
     ]
    }
   ],
   "source": [
    "#positional argument call. Position matters here\n",
    "make_shirt(40, 'Sani')\n",
    "#make_shirt('Sani', 40)#The size of the shirt is Sani, and 40 should be written on it.\n",
    "\n",
    "#Keywords argument call: Position doesnt matter\n",
    "make_shirt(size = 40, text= \"Sani\")\n",
    "make_shirt(text = \"Sani\", size = 40)"
   ]
  },
  {
   "cell_type": "markdown",
   "metadata": {},
   "source": [
    "#### 4. Large Shirts: Modify the make_shirt() function so that shirts are large by default with a message that reads I love Python. Make a large shirt and a medium shirt with the default message, and a shirt of any size with a different message"
   ]
  },
  {
   "cell_type": "code",
   "execution_count": 42,
   "metadata": {},
   "outputs": [],
   "source": [
    "def make_shirt(size=\"Large\", text = \"I love Python\"): #here the shirts are large by default with a default text \"Ilove Python\"\n",
    "    \"\"\" print a sentence summarizing the size of the shirt and the message printed on it\"\"\"\n",
    "    print(f'The size of the shirt is {size}, and {text} should be written on it.')"
   ]
  },
  {
   "cell_type": "code",
   "execution_count": 43,
   "metadata": {},
   "outputs": [
    {
     "name": "stdout",
     "output_type": "stream",
     "text": [
      "The size of the shirt is Large, and I love Python should be written on it.\n",
      "The size of the shirt is Medium, and I love Python should be written on it.\n",
      "The size of the shirt is 30, and I like coding should be written on it.\n"
     ]
    }
   ],
   "source": [
    "#Large shirt with the default message: This is the default value so we only need to call the function\n",
    "make_shirt()\n",
    "#Medium shirt with the default message: here we only need to pass the medium size so that large is not displayed by default\n",
    "make_shirt(\"Medium\")\n",
    "#Shirt of any size with a different message: Here we need to pass both the two args\n",
    "make_shirt(30, \"I like coding\")"
   ]
  },
  {
   "cell_type": "markdown",
   "metadata": {},
   "source": [
    "#### 5. Cities: Write a function called describe_city() that accepts the name of a city and its country. The function should print a simple sentence, such as Reykjavik is in Iceland. Give the parameter for the country a default value. Call your function for three different cities, at least one of which is not in the default country."
   ]
  },
  {
   "cell_type": "code",
   "execution_count": 49,
   "metadata": {},
   "outputs": [
    {
     "name": "stdout",
     "output_type": "stream",
     "text": [
      "Yola is in Nigeria\n",
      "Kano is in Nigeria\n",
      "Mumbai is in India\n",
      "Niamey is in Niger\n"
     ]
    }
   ],
   "source": [
    "def describe_city(city_name, country_name = \"Nigeria\"):\n",
    "    \"\"\"Print Simple Sentence of a city and its country\"\"\"\n",
    "    print(f'{city_name} is in {country_name}')\n",
    "\n",
    "describe_city(\"Yola\")\n",
    "describe_city(\"Kano\")\n",
    "describe_city(\"Mumbai\", country_name= \"India\")\n",
    "describe_city(city_name =\"Niamey\", country_name= \"Niger\")"
   ]
  },
  {
   "cell_type": "markdown",
   "metadata": {},
   "source": [
    "#### 6 City Names: Write a function called city_country() that takes in the name of a city and its country. The function should return a string formatted like this: \"Santiago, Chile\" Call your function with at least three city-country pairs, and print the values that are returned.\n"
   ]
  },
  {
   "cell_type": "code",
   "execution_count": 12,
   "metadata": {},
   "outputs": [],
   "source": [
    "def city_country(city, country):\n",
    "    \"\"\"Formatted City Country Combibation\"\"\"\n",
    "    formated_result = f'{city}, {country}'\n",
    "    return formated_result.title()"
   ]
  },
  {
   "cell_type": "code",
   "execution_count": 27,
   "metadata": {},
   "outputs": [
    {
     "name": "stdout",
     "output_type": "stream",
     "text": [
      "Kano, Nigeria\n",
      "Mumbai, India\n",
      "Mumbai, India\n"
     ]
    }
   ],
   "source": [
    "pair1 = city_country(\"kano\",\"nigeria\")\n",
    "pair2 = city_country(city=\"Mumbai\", country = \"India\")\n",
    "pair3 = city_country(country = \"india\", city = \"mumbai\")\n",
    "print(pair1)\n",
    "print(pair2)\n",
    "print(pair3)"
   ]
  },
  {
   "cell_type": "code",
   "execution_count": 22,
   "metadata": {},
   "outputs": [
    {
     "name": "stdout",
     "output_type": "stream",
     "text": [
      "Kano, Nigeria\n",
      "Mumbai, India\n",
      "London, England\n"
     ]
    }
   ],
   "source": [
    "#Alternatively\n",
    "def city_country(city, country):\n",
    "    \"\"\"Formatted City Country Combibation\"\"\"\n",
    "    formated_result = f'{city}, {country}'\n",
    "    return formated_result.title()\n",
    "while True:\n",
    "    #print(f'enter k to quit')\n",
    "    city2 = input(\"Enter your city name or k to quit:\",)\n",
    "    if city2 == \"k\":\n",
    "        break\n",
    "    country2 = input(\"enter your country name or k to quit:\",)\n",
    "    if country2 == \"k\":\n",
    "        break\n",
    "    new_formated_result = city_country(city2,country2)\n",
    "    print(new_formated_result)\n",
    "    "
   ]
  },
  {
   "cell_type": "markdown",
   "metadata": {},
   "source": [
    "#### 7. Album: Write a function called make_album() that builds a dictionary describing a music album. The function should take in an artist name and an album title, and it should return a dictionary containing these two pieces of information. Use the function to make three dictionaries representing different albums. Print each return value to show that the dictionaries are storing the album information correctly.\n",
    "\n"
   ]
  },
  {
   "cell_type": "code",
   "execution_count": 59,
   "metadata": {},
   "outputs": [
    {
     "name": "stdout",
     "output_type": "stream",
     "text": [
      "{'Artist': 'Ed Sheeran', 'album': 'Plus'}\n",
      "{'Artist': 'Mishary', 'album': 'Ghareeb'}\n",
      "{'Artist': 'Sami Yusuf', 'album': 'Muallim'}\n"
     ]
    }
   ],
   "source": [
    "def make_album(artist_name, album_title):\n",
    "    \"\"\"Return a dictionary containing artist name and album\"\"\"\n",
    "    album_info = {\"Artist\": artist_name, \"album\": album_title}\n",
    "    return album_info\n",
    "dict1 = make_album('Ed Sheeran', \"Plus\")\n",
    "dict2 = make_album('Mishary', 'Ghareeb')\n",
    "dict3 = make_album(\"Sami Yusuf\", \"Muallim\")\n",
    "print(dict1)\n",
    "print(dict2)\n",
    "print(dict3)"
   ]
  },
  {
   "cell_type": "markdown",
   "metadata": {},
   "source": [
    "#### Use None to add an optional parameter to make_album() that allows you to store the number of songs on an album. If the calling line includes a value for the number of songs, add that value to the album’s dictionary. Make at least one new function call that includes the number of songs on an album."
   ]
  },
  {
   "cell_type": "code",
   "execution_count": 60,
   "metadata": {},
   "outputs": [
    {
     "name": "stdout",
     "output_type": "stream",
     "text": [
      "{'Artist': 'Ed Sheeran', 'album': 'Plus', 'Number of Songs': 10}\n"
     ]
    }
   ],
   "source": [
    "def make_album(artist_name, album_title, no_songs = None):\n",
    "    \"\"\"Return a dictionary containing artist name and album\"\"\"\n",
    "    album_info = {\"Artist\": artist_name, \"album\": album_title}\n",
    "    if no_songs:\n",
    "        album_info['Number of Songs'] = no_songs\n",
    "    return album_info\n",
    "\n",
    "dict1 = make_album('Ed Sheeran', \"Plus\", no_songs=10)\n",
    "print(dict1)"
   ]
  },
  {
   "cell_type": "markdown",
   "metadata": {},
   "source": [
    "#### 8. User Albums: Start with your program from Exercise 8-7. Write a while loop that allows users to enter an album’s artist and title. Once you have that information, call make_album() with the user’s input and print the dictionary that’s created. Be sure to include a quit value in the while loop"
   ]
  },
  {
   "cell_type": "code",
   "execution_count": 67,
   "metadata": {},
   "outputs": [
    {
     "name": "stdout",
     "output_type": "stream",
     "text": [
      "{'Artist': 'ED Sheeran', 'album': 'Plus', 'Number of Songs': '10'}\n"
     ]
    }
   ],
   "source": [
    "while True:\n",
    "    artist_name1 = input(\"Enter artist name or k to quit:\",)\n",
    "    if artist_name1 == \"k\":\n",
    "        break\n",
    "    album_title1 = input(\"enter the album title or k to quit:\",)\n",
    "    if  album_title1 == \"k\":\n",
    "        break\n",
    "    number_songs = input('Enter the no. Songs or k to quit:')\n",
    "    if number_songs == 'k':\n",
    "        break\n",
    "    user_albums = make_album(artist_name1, album_title1, number_songs)\n",
    "    print(user_albums)"
   ]
  },
  {
   "cell_type": "markdown",
   "metadata": {},
   "source": [
    "#### 9. Messages: Make a list containing a series of short text messages. Pass the list to a function called show_messages(), which prints each text message."
   ]
  },
  {
   "cell_type": "code",
   "execution_count": 78,
   "metadata": {},
   "outputs": [
    {
     "name": "stdout",
     "output_type": "stream",
     "text": [
      "Hello\n",
      "Hi\n",
      "Please\n",
      "Good Morning\n"
     ]
    }
   ],
   "source": [
    "short_text_msg = ['Hello','Hi','Please','Good Morning']\n",
    "def show_messgaes(messages_list):\n",
    "    \"\"\"Print Each Text Message from a List containing Tesxt messages\"\"\"\n",
    "    for message in messages_list:\n",
    "        msg = f'{message}'\n",
    "        print(msg)\n",
    "show_messgaes(short_text_msg)"
   ]
  },
  {
   "cell_type": "markdown",
   "metadata": {},
   "source": [
    "#### 10. Sending Messages: Start with a copy of your program from Exercise 8-9. Write a function called send_messages() that prints each text message and moves each message to a new list called sent_messages as it’s printed. After calling the function, print both of your lists to make sure the messages were moved correctly"
   ]
  },
  {
   "cell_type": "code",
   "execution_count": 79,
   "metadata": {},
   "outputs": [
    {
     "name": "stdout",
     "output_type": "stream",
     "text": [
      "\n",
      "Good Morning\n",
      "\n",
      "Please\n",
      "\n",
      "Hi\n",
      "\n",
      "Hello\n"
     ]
    }
   ],
   "source": [
    "def send_messages(messages_list, sent_messages):\n",
    "    \"\"\"Print Each text message and move each message to a new list\"\"\"\n",
    "    while messages_list:\n",
    "        current_message = messages_list.pop()\n",
    "        print(f'\\n{current_message}')\n",
    "        sent_messages.append(current_message)\n",
    "#calling\n",
    "short_text_msg = ['Hello','Hi','Please','Good Morning'] \n",
    "sent_messages =[] \n",
    "send_messages(short_text_msg,sent_messages) "
   ]
  },
  {
   "cell_type": "code",
   "execution_count": 83,
   "metadata": {},
   "outputs": [
    {
     "name": "stdout",
     "output_type": "stream",
     "text": [
      "[]\n",
      "['Good Morning', 'Please', 'Hi', 'Hello']\n"
     ]
    }
   ],
   "source": [
    "#After calling the function, print both of your lists to make sure the messages were moved correctly\n",
    "print(short_text_msg)#this list now becomes empty\n",
    "print(sent_messages) #all messages sent are moved here\n"
   ]
  },
  {
   "cell_type": "markdown",
   "metadata": {},
   "source": [
    "#### 11. Archived Messages: Start with your work from Exercise 8-10. Call the function send_messages() with a copy of the list of messages. After calling the function, print both of your lists to show that the original list has retained its messages."
   ]
  },
  {
   "cell_type": "code",
   "execution_count": 84,
   "metadata": {},
   "outputs": [
    {
     "name": "stdout",
     "output_type": "stream",
     "text": [
      "\n",
      "Good Morning\n",
      "\n",
      "Please\n",
      "\n",
      "Hi\n",
      "\n",
      "Hello\n"
     ]
    }
   ],
   "source": [
    "short_text_msg = ['Hello','Hi','Please','Good Morning'] \n",
    "sent_messages =[] \n",
    "send_messages(short_text_msg[:], sent_messages)"
   ]
  },
  {
   "cell_type": "code",
   "execution_count": 85,
   "metadata": {},
   "outputs": [
    {
     "name": "stdout",
     "output_type": "stream",
     "text": [
      "['Hello', 'Hi', 'Please', 'Good Morning']\n",
      "['Good Morning', 'Please', 'Hi', 'Hello']\n"
     ]
    }
   ],
   "source": [
    "print(short_text_msg)#now we should still have our list because we only use the copy\n",
    "print(sent_messages)#this should also contain the messages\n"
   ]
  },
  {
   "cell_type": "markdown",
   "metadata": {},
   "source": [
    "#### 12. Sandwiches: Write a function that accepts a list of items a person wants on a sandwich. The function should have one parameter that collects as many items as the function call provides, and it should print a summary of the sandwich that’s being ordered. Call the function three times, using a different number of arguments each time"
   ]
  },
  {
   "cell_type": "code",
   "execution_count": 91,
   "metadata": {},
   "outputs": [
    {
     "name": "stdout",
     "output_type": "stream",
     "text": [
      "\n",
      " Making sandwitch with below items\n",
      "~ pepper\n",
      "\n",
      " Making sandwitch with below items\n",
      "~ pepper\n",
      "~ salad\n",
      "\n",
      " Making sandwitch with below items\n",
      "~ pepper\n",
      "~ salad\n",
      "~ lettuce\n"
     ]
    }
   ],
   "source": [
    "def make_sandwiches(*toppings):\n",
    "    \"\"\"Print a summary of sandwich being ordered\"\"\"\n",
    "    print(\"\\n Making sandwitch with below items\")\n",
    "    for topping in toppings:\n",
    "        print(f'~ {topping}')\n",
    "make_sandwiches('pepper')\n",
    "make_sandwiches('pepper', \"salad\")\n",
    "make_sandwiches('pepper', \"salad\",\"lettuce\")"
   ]
  },
  {
   "cell_type": "markdown",
   "metadata": {},
   "source": [
    "#### 13. User Profile: Start with a copy of user_profile.py from page 148. Build a profile of yourself by calling build_profile(), using your first and last names and three other key-value pairs that describe you."
   ]
  },
  {
   "cell_type": "code",
   "execution_count": 94,
   "metadata": {},
   "outputs": [
    {
     "name": "stdout",
     "output_type": "stream",
     "text": [
      "{'location': 'princeton', 'field': 'physics', 'first_name': 'albert', 'last_name': 'einstein'}\n"
     ]
    }
   ],
   "source": [
    "def build_profile(first, last, **user_info):\n",
    "    \"\"\"Build a dictionary of myself\"\"\"\n",
    "    user_info['first_name'] = first\n",
    "    user_info['last_name'] = last\n",
    "    return user_info\n",
    "user_profile = build_profile('albert', 'einstein',\n",
    "location='princeton',\n",
    "field='physics')\n",
    "print(user_profile)"
   ]
  },
  {
   "cell_type": "code",
   "execution_count": 96,
   "metadata": {},
   "outputs": [
    {
     "name": "stdout",
     "output_type": "stream",
     "text": [
      "{'age': 200, 'field': 'Mathematics', 'Weight': '200kg', 'first_name': 'Sani', 'last_name': 'Aji'}\n"
     ]
    }
   ],
   "source": [
    "#user profile of myself\n",
    "user_profile = build_profile('Sani', 'Aji',\n",
    "age=200,\n",
    "field='Mathematics',\n",
    "Weight = '200kg')\n",
    "print(user_profile)"
   ]
  },
  {
   "cell_type": "markdown",
   "metadata": {},
   "source": [
    "#### 14. Cars: Write a function that stores information about a car in a dictionary. The function should always receive a manufacturer and a model name. It should then accept an arbitrary number of keyword arguments. Call the function with the required information and two other name-value pairs, such as a color or an optional feature. Your function should work for a call like this one\n",
    "\n",
    "##### car = make_car('subaru', 'outback', color='blue', tow_package=True) Print the dictionary that’s returned to make sure all the information was stored correctly"
   ]
  },
  {
   "cell_type": "code",
   "execution_count": 98,
   "metadata": {},
   "outputs": [
    {
     "name": "stdout",
     "output_type": "stream",
     "text": [
      "{'color': 'blue', 'tow_package': True, 'Manufacturer': 'subaru', 'Model': 'outback'}\n"
     ]
    }
   ],
   "source": [
    "def make_car(manufacturer, model, **kwargs):\n",
    "    \"\"\"Information About a car\"\"\"\n",
    "    kwargs['Manufacturer'] = manufacturer\n",
    "    kwargs['Model'] = model\n",
    "    return kwargs\n",
    "car = make_car('subaru', 'outback', color='blue', tow_package=True)\n",
    "print(car)"
   ]
  },
  {
   "cell_type": "markdown",
   "metadata": {},
   "source": [
    "#### 15. Printing Models: Put the functions for the example printing_models.py in a separate file called printing_functions.py. Write an import statement at the top of printing_models.py, and modify the file to use the imported functions"
   ]
  },
  {
   "cell_type": "code",
   "execution_count": 1,
   "metadata": {},
   "outputs": [
    {
     "name": "stdout",
     "output_type": "stream",
     "text": [
      "Printing model: dodecahedron\n",
      "Printing model: robot pendant\n",
      "Printing model: phone case\n",
      "\n",
      "The following models have been printed:\n",
      "dodecahedron\n",
      "robot pendant\n",
      "phone case\n"
     ]
    }
   ],
   "source": [
    "import printing_functions\n",
    "unprinted_designs = ['phone case', 'robot pendant', 'dodecahedron']\n",
    "completed_models = []\n",
    "printing_functions.print_models(unprinted_designs, completed_models)\n",
    "printing_functions.show_completed_models(completed_models)"
   ]
  },
  {
   "cell_type": "code",
   "execution_count": 3,
   "metadata": {},
   "outputs": [
    {
     "name": "stdout",
     "output_type": "stream",
     "text": [
      "Printing model: dodecahedron\n",
      "Printing model: robot pendant\n",
      "Printing model: phone case\n",
      "\n",
      "The following models have been printed:\n",
      "dodecahedron\n",
      "robot pendant\n",
      "phone case\n"
     ]
    }
   ],
   "source": [
    "#below is the main function used in #15 above:\n",
    "def print_models(unprinted_designs, completed_models):\n",
    "    \"\"\"\n",
    "    Simulate printing each design, until none are left.144 Chapter 8\n",
    "    Move each design to completed_models after printing.\n",
    "    \"\"\"\n",
    "    while unprinted_designs:\n",
    "        current_design = unprinted_designs.pop()\n",
    "        print(f\"Printing model: {current_design}\")\n",
    "        completed_models.append(current_design)\n",
    "def show_completed_models(completed_models):\n",
    "    \"\"\"Show all the models that were printed.\"\"\"\n",
    "    print(\"\\nThe following models have been printed:\")\n",
    "    for completed_model in completed_models:\n",
    "        print(completed_model)\n",
    "unprinted_designs = ['phone case', 'robot pendant', 'dodecahedron']\n",
    "completed_models = []\n",
    "print_models(unprinted_designs, completed_models)\n",
    "show_completed_models(completed_models)"
   ]
  },
  {
   "cell_type": "markdown",
   "metadata": {},
   "source": [
    "#### 16. Imports: Using a program you wrote that has one function in it, store that function in a separate file. Import the function into your main program file, and call the function using each of these approaches:\n",
    "\n",
    "#### - import module_name \n",
    "#### - from module_name import function_name\n",
    "#### - from module_name import function_name as fn\n",
    "#### - import module_name as mn\n",
    "#### - from module_name import *"
   ]
  },
  {
   "cell_type": "code",
   "execution_count": 4,
   "metadata": {},
   "outputs": [
    {
     "name": "stdout",
     "output_type": "stream",
     "text": [
      "\n",
      " Making sandwitch with below items\n",
      "~ pepper\n"
     ]
    }
   ],
   "source": [
    "# I will use the sandwich function in no 12\n",
    "\n",
    "#import module name\n",
    "\n",
    "import sandwich\n",
    "\n",
    "sandwich.make_sandwiches('pepper')\n",
    "\n",
    "\n"
   ]
  },
  {
   "cell_type": "code",
   "execution_count": 5,
   "metadata": {},
   "outputs": [
    {
     "name": "stdout",
     "output_type": "stream",
     "text": [
      "\n",
      " Making sandwitch with below items\n",
      "~ pepper\n"
     ]
    }
   ],
   "source": [
    "#from module_name import function_name\n",
    "from sandwich import make_sandwiches\n",
    "make_sandwiches('pepper')"
   ]
  },
  {
   "cell_type": "code",
   "execution_count": 6,
   "metadata": {},
   "outputs": [
    {
     "name": "stdout",
     "output_type": "stream",
     "text": [
      "\n",
      " Making sandwitch with below items\n",
      "~ pepper\n"
     ]
    }
   ],
   "source": [
    "#from module_name import function_name as fn\n",
    "from sandwich import make_sandwiches as ms\n",
    "ms('pepper')"
   ]
  },
  {
   "cell_type": "code",
   "execution_count": 7,
   "metadata": {},
   "outputs": [
    {
     "name": "stdout",
     "output_type": "stream",
     "text": [
      "\n",
      " Making sandwitch with below items\n",
      "~ pepper\n"
     ]
    }
   ],
   "source": [
    "#import module_name as mn\n",
    "import sandwich as SD\n",
    "SD.make_sandwiches('pepper')"
   ]
  },
  {
   "cell_type": "code",
   "execution_count": 8,
   "metadata": {},
   "outputs": [
    {
     "name": "stdout",
     "output_type": "stream",
     "text": [
      "\n",
      " Making sandwitch with below items\n",
      "~ pepper\n"
     ]
    }
   ],
   "source": [
    "#from module_name import *\n",
    "from sandwich import *\n",
    "make_sandwiches('pepper')"
   ]
  },
  {
   "cell_type": "markdown",
   "metadata": {},
   "source": [
    "#### 17. Styling Functions: Choose any three programs you wrote for this chapter, and make sure they follow the styling guidelines described in this section"
   ]
  },
  {
   "cell_type": "code",
   "execution_count": null,
   "metadata": {},
   "outputs": [],
   "source": [
    "#All functions written in this file follow the styling guidlines.\n",
    "# Three examples to consider could be the \n",
    "#make_car function in 14\n",
    "#make_sandwiches function in 12\n",
    "#send_messages function in 10"
   ]
  }
 ],
 "metadata": {
  "kernelspec": {
   "display_name": "datascience",
   "language": "python",
   "name": "python3"
  },
  "language_info": {
   "codemirror_mode": {
    "name": "ipython",
    "version": 3
   },
   "file_extension": ".py",
   "mimetype": "text/x-python",
   "name": "python",
   "nbconvert_exporter": "python",
   "pygments_lexer": "ipython3",
   "version": "3.8.18"
  }
 },
 "nbformat": 4,
 "nbformat_minor": 2
}
