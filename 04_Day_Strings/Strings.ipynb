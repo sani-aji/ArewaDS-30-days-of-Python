{
 "cells": [
  {
   "cell_type": "code",
   "execution_count": null,
   "metadata": {},
   "outputs": [],
   "source": [
    "#1 Concatenate the string 'Thirty', 'Days', 'Of', 'Python' to a single string, 'Thirty Days Of Python'.\n",
    "a = \"Thirty\"\n",
    "b  = 'Days'\n",
    "c = 'Of'\n",
    "d = 'Python'\n",
    "single_string = a + \" \" + b + \" \" + c + \" \" + d\n",
    "print(single_string)\n",
    "#alternatively\n",
    "S =  ['Thirty', 'Days', 'Of', 'Python']\n",
    "print(' '.join(S))"
   ]
  },
  {
   "cell_type": "code",
   "execution_count": null,
   "metadata": {},
   "outputs": [],
   "source": [
    "#2 Concatenate the string 'Coding', 'For' , 'All' to a single string, 'Coding For All'.\n",
    "a = 'Coding'\n",
    "b = 'For'\n",
    "c = 'All'\n",
    "single_str = \"{} {} {}\".format(a,b,c)\n",
    "print(single_str)"
   ]
  },
  {
   "cell_type": "code",
   "execution_count": null,
   "metadata": {},
   "outputs": [],
   "source": [
    "# 3 Declare a variable named company and assign it to an initial value \"Coding For All\"\n",
    "company = \"Coding For All\""
   ]
  },
  {
   "cell_type": "code",
   "execution_count": null,
   "metadata": {},
   "outputs": [],
   "source": [
    "#4 Print the variable company using print().\n",
    "print(company)"
   ]
  },
  {
   "cell_type": "code",
   "execution_count": null,
   "metadata": {},
   "outputs": [],
   "source": [
    "#5 Print the length of the company string using len() method and print().\n",
    "print(len(company))"
   ]
  },
  {
   "cell_type": "code",
   "execution_count": null,
   "metadata": {},
   "outputs": [],
   "source": [
    "#6 Change all the characters to uppercase letters using upper() method.\n",
    "print(company.upper())\n"
   ]
  },
  {
   "cell_type": "code",
   "execution_count": null,
   "metadata": {},
   "outputs": [],
   "source": [
    "#7 Change all the characters to lowercase letters using lower() method.\n",
    "print(company.lower())"
   ]
  },
  {
   "cell_type": "code",
   "execution_count": null,
   "metadata": {},
   "outputs": [],
   "source": [
    "#8 Use capitalize(), title(), swapcase() methods to format the value of the string Coding For All.\n",
    "print(company.capitalize())\n",
    "\n",
    "print(company.title())\n",
    "\n",
    "print(company.swapcase())\n"
   ]
  },
  {
   "cell_type": "code",
   "execution_count": null,
   "metadata": {},
   "outputs": [],
   "source": [
    "#9 Cut(slice) out the first word of Coding For All string.\n",
    "print(company[0:6])"
   ]
  },
  {
   "cell_type": "code",
   "execution_count": null,
   "metadata": {},
   "outputs": [],
   "source": [
    "# 10 Check if Coding For All string contains a word Coding using the method index, find or other methods.\n",
    "print(company.find('Coding'))"
   ]
  },
  {
   "cell_type": "code",
   "execution_count": null,
   "metadata": {},
   "outputs": [],
   "source": [
    "#11 Replace the word coding in the string 'Coding For All' to Python.\n",
    "new_company = (company.replace(\"Coding\", \"Python\"))\n",
    "print(new_company)"
   ]
  },
  {
   "cell_type": "code",
   "execution_count": null,
   "metadata": {},
   "outputs": [],
   "source": [
    "#12 Change Python for Everyone to Python for All using the replace method or other methods.\n",
    "print(new_company.replace(\"All\", \"Everyone\"))"
   ]
  },
  {
   "cell_type": "code",
   "execution_count": null,
   "metadata": {},
   "outputs": [],
   "source": [
    "#13 Split the string 'Coding For All' using space as the separator (split()) .\n",
    "print(company.split())"
   ]
  },
  {
   "cell_type": "code",
   "execution_count": null,
   "metadata": {},
   "outputs": [],
   "source": [
    "#14 \"Facebook, Google, Microsoft, Apple, IBM, Oracle, Amazon\" split the string at the comma\n",
    "new_str = \"Facebook, Google, Microsoft, Apple, IBM, Oracle, Amazon\"\n",
    "print(new_str.split(', '))"
   ]
  },
  {
   "cell_type": "code",
   "execution_count": null,
   "metadata": {},
   "outputs": [],
   "source": [
    "#15 What is the character at index 0 in the string Coding For All.\n",
    "print(company[0])"
   ]
  },
  {
   "cell_type": "code",
   "execution_count": null,
   "metadata": {},
   "outputs": [],
   "source": [
    "#16 What is the last index of the string Coding For All.\n",
    "print(company[-1])"
   ]
  },
  {
   "cell_type": "code",
   "execution_count": null,
   "metadata": {},
   "outputs": [],
   "source": [
    "# 17 What character is at index 10 in \"Coding For All\" string.\n",
    "print(company[10])"
   ]
  },
  {
   "cell_type": "code",
   "execution_count": null,
   "metadata": {},
   "outputs": [],
   "source": [
    "# 18 Create an acronym or an abbreviation for the name 'Python For Everyone'.\n",
    "L = 'Python For Everyone'\n",
    "acronym = ''.join(i[0] for i in L.split())\n",
    "print(acronym)"
   ]
  },
  {
   "cell_type": "code",
   "execution_count": null,
   "metadata": {},
   "outputs": [],
   "source": [
    "# 19 Create an acronym or an abbreviation for the name 'Coding For All'.\n",
    "sentence = 'Coding For All'\n",
    "acronym2 = ''.join(i[0] for i in sentence.split())\n",
    "print(acronym2)"
   ]
  },
  {
   "cell_type": "code",
   "execution_count": null,
   "metadata": {},
   "outputs": [],
   "source": [
    "#20 Use index to determine the position of the first occurrence of C in Coding For All.\n",
    "letter = 'C'\n",
    "print(sentence.index(letter))"
   ]
  },
  {
   "cell_type": "code",
   "execution_count": null,
   "metadata": {},
   "outputs": [],
   "source": [
    "#21 Use index to determine the position of the first occurrence of F in Coding For All.\n",
    "print(sentence.index('F'))"
   ]
  },
  {
   "cell_type": "code",
   "execution_count": null,
   "metadata": {},
   "outputs": [],
   "source": [
    "#22 Use rfind to determine the position of the last occurrence of l in Coding For All People.\n",
    "print(sentence.rfind('l'))"
   ]
  },
  {
   "cell_type": "code",
   "execution_count": null,
   "metadata": {},
   "outputs": [],
   "source": [
    "#23 Use index or find to find the position of the first occurrence of the word 'because' in the following sentence: 'You cannot end a sentence with because because because is a conjunction'\n",
    "print('You cannot end a sentence with because because because is a conjunction'.find('because'))\n",
    "print('You cannot end a sentence with because because because is a conjunction'.index('because'))"
   ]
  },
  {
   "cell_type": "code",
   "execution_count": null,
   "metadata": {},
   "outputs": [],
   "source": [
    "#24 Use rindex to find the position of the last occurrence of the word because in the following sentence: 'You cannot end a sentence with because because because is a conjunction'\n",
    "sentence2 = 'You cannot end a sentence with because because because is a conjunction'\n",
    "print(sentence2.rindex('because'))"
   ]
  },
  {
   "cell_type": "code",
   "execution_count": null,
   "metadata": {},
   "outputs": [],
   "source": [
    "#25 Slice out the phrase 'because because because' in the following sentence: 'You cannot end a sentence with because because because is a conjunction'\n",
    "print(len(sentence2))\n",
    "print(sentence2.find('because'))\n",
    "print(sentence2.rfind('because'))\n",
    "print(sentence2[31:54:1])"
   ]
  },
  {
   "cell_type": "code",
   "execution_count": null,
   "metadata": {},
   "outputs": [],
   "source": [
    "#26 Find the position of the first occurrence of the word 'because' in the following sentence: 'You cannot end a sentence with because because because is a conjunction'\n",
    "print(sentence2.find('because'))"
   ]
  },
  {
   "cell_type": "code",
   "execution_count": null,
   "metadata": {},
   "outputs": [],
   "source": [
    "#27 Slice out the phrase 'because because because' in the following sentence: 'You cannot end a sentence with because because because is a conjunction' (Done already)\n",
    "print(sentence2[31:54:1])"
   ]
  },
  {
   "cell_type": "code",
   "execution_count": null,
   "metadata": {},
   "outputs": [],
   "source": [
    "#28 Does 'Coding For All' start with a substring Coding?\n",
    "#Recall Sentence = 'Coding For All'\n",
    "sentence\n",
    "print(sentence.startswith('Coding'))"
   ]
  },
  {
   "cell_type": "code",
   "execution_count": null,
   "metadata": {},
   "outputs": [],
   "source": [
    "#29 Does 'Coding For All' end with a substring coding?\n",
    "print(sentence.endswith('Coding'))"
   ]
  },
  {
   "cell_type": "code",
   "execution_count": null,
   "metadata": {},
   "outputs": [],
   "source": [
    "#30 '   Coding For All      '  , remove the left and right trailing spaces in the given string.\n",
    "sentence3 =  '   Coding For All      '\n",
    "print(sentence3.strip('   '))"
   ]
  },
  {
   "cell_type": "code",
   "execution_count": null,
   "metadata": {},
   "outputs": [],
   "source": [
    "#31 Which one of the following variables return True when we use the method isidentifier():\n",
    "#30DaysOfPython\n",
    "#thirty_days_of_pytho\n",
    "L = '30DaysOfPython'\n",
    "L2 = 'thirty_days_of_python'\n",
    "print(L.isidentifier())\n",
    "print(L2.isidentifier())\n",
    "#L2 returns True because it is purely string and a valid variable name"
   ]
  },
  {
   "cell_type": "code",
   "execution_count": null,
   "metadata": {},
   "outputs": [],
   "source": [
    "#32 The following list contains the names of some of python libraries: ['Django', 'Flask', 'Bottle', 'Pyramid', 'Falcon']. Join the list with a hash with space string.\n",
    "libraries = ['Django', 'Flask', 'Bottle', 'Pyramid', 'Falcon']\n",
    "print('# '.join(libraries))"
   ]
  },
  {
   "cell_type": "code",
   "execution_count": null,
   "metadata": {},
   "outputs": [],
   "source": [
    "#33 Use the new line escape sequence to separate the following sentences.\n",
    "#I am enjoying this challenge.\n",
    "#I just wonder what is next.\n",
    "print('I am enjoying this challenge\\nI just wonder what is next')"
   ]
  },
  {
   "cell_type": "code",
   "execution_count": null,
   "metadata": {},
   "outputs": [],
   "source": [
    "#34 Use a tab escape sequence to write the following lines.\n",
    "#Name      Age     Country   City\n",
    "#Asabeneh  250     Finland   Helsinki\n",
    "print('Name\\tAge\\tCountry \\t City \\nAsabenah\\t250\\tFinland\\tHelsinki')"
   ]
  },
  {
   "cell_type": "code",
   "execution_count": null,
   "metadata": {},
   "outputs": [],
   "source": [
    "#Use the string formatting method to display the following:\n",
    "radius = 10\n",
    "area = 3.14 * radius ** 2\n",
    "formated = 'The area of a circle with radius {} is {} meters square'.format(radius, area)\n",
    "print(formated)"
   ]
  },
  {
   "cell_type": "code",
   "execution_count": null,
   "metadata": {},
   "outputs": [],
   "source": [
    "#36 Make the following using string formatting methods:\n",
    "n = 8\n",
    "m = 6\n",
    "print('{} + {} = {}'.format(n,m,n+m))\n",
    "print('{} - {} = {}'.format(n,m,n-m))\n",
    "print('{} / {} = {}'.format(n, m, n / m))\n",
    "print('{} * {} = {}'.format(n,m,n*m))\n",
    "print('{} % {} = {}'.format(n,m,n%m))\n",
    "print('{} // {} = {}'.format(n, m, n // m))\n",
    "print('{} ** {} = {}'.format(n, m, n ** m))"
   ]
  },
  {
   "cell_type": "code",
   "execution_count": null,
   "metadata": {},
   "outputs": [],
   "source": []
  }
 ],
 "metadata": {
  "kernelspec": {
   "display_name": "datascience",
   "language": "python",
   "name": "python3"
  },
  "language_info": {
   "codemirror_mode": {
    "name": "ipython",
    "version": 3
   },
   "file_extension": ".py",
   "mimetype": "text/x-python",
   "name": "python",
   "nbconvert_exporter": "python",
   "pygments_lexer": "ipython3",
   "version": "3.8.18"
  }
 },
 "nbformat": 4,
 "nbformat_minor": 2
}
