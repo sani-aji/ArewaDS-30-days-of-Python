{
 "cells": [
  {
   "cell_type": "code",
   "execution_count": 10,
   "metadata": {},
   "outputs": [
    {
     "name": "stdout",
     "output_type": "stream",
     "text": [
      "Data has been scraped and stored as bu_university_data.json.\n"
     ]
    }
   ],
   "source": [
    "#1 Scrape the following website and store the data as json file(url = 'http://www.bu.edu/president/boston-university-facts-stats/').\n",
    "import requests\n",
    "from bs4 import BeautifulSoup\n",
    "import json\n",
    "\n",
    "# URL \n",
    "url = 'http://www.bu.edu/president/boston-university-facts-stats/'\n",
    "\n",
    "# Sending an HTTP request to the URL\n",
    "response = requests.get(url)\n",
    "\n",
    "# Checking (status code 200 means successful)\n",
    "if response.status_code == 200:\n",
    "    # Parse the HTML content using BeautifulSoup\n",
    "    soup = BeautifulSoup(response.content, 'html.parser')\n",
    "\n",
    "    # Extract data from the website as needed\n",
    "\n",
    "    # Storing the data as a JSON file\n",
    "    data = {\n",
    "        # extracted data here\n",
    "    }\n",
    "\n",
    "    with open('bu_university_data.json', 'w', encoding='utf-8') as json_file:\n",
    "        json.dump(data, json_file, ensure_ascii=False, indent=4)\n",
    "\n",
    "    print(\"Data has been scraped and stored as bu_university_data.json.\")\n",
    "else:\n",
    "    print(\"Error: Unable to fetch the webpage. Status code:\", response.status_code)\n"
   ]
  },
  {
   "cell_type": "code",
   "execution_count": 11,
   "metadata": {},
   "outputs": [
    {
     "name": "stdout",
     "output_type": "stream",
     "text": [
      "Data has been scraped and stored as iris_dataset.json.\n"
     ]
    }
   ],
   "source": [
    "#2 Extract the table in this url (https://archive.ics.uci.edu/ml/datasets.php) and change it to a json file\n",
    "from bs4 import BeautifulSoup\n",
    "import json\n",
    "\n",
    "\n",
    "url = 'https://archive.ics.uci.edu/ml/datasets/iris'\n",
    "\n",
    "\n",
    "response = requests.get(url)\n",
    "\n",
    "# Checking (status code 200 means successful)\n",
    "if response.status_code == 200:\n",
    "    # Parsing the HTML content using BeautifulSoup\n",
    "    soup = BeautifulSoup(response.content, 'html.parser')\n",
    "\n",
    "    # Finding the table on the page\n",
    "    table = soup.find('table')\n",
    "\n",
    "    # Extraction of data from the table\n",
    "    data = []\n",
    "    headers = [header.text.strip() for header in table.find_all('th')]\n",
    "    rows = table.find_all('tr')[1:]  # Skip the header row\n",
    "\n",
    "    for row in rows:\n",
    "        row_data = [cell.text.strip() for cell in row.find_all('td')]\n",
    "        data.append(dict(zip(headers, row_data)))\n",
    "\n",
    "    # Storing the data as a JSON file\n",
    "    with open('iris_dataset.json', 'w', encoding='utf-8') as json_file:\n",
    "        json.dump(data, json_file, ensure_ascii=False, indent=4)\n",
    "\n",
    "    print(\"Data has been scraped and stored as iris_dataset.json.\")\n",
    "else:\n",
    "    print(\"Error: Unable to fetch the webpage. Status code:\", response.status_code)\n"
   ]
  },
  {
   "cell_type": "code",
   "execution_count": 12,
   "metadata": {},
   "outputs": [
    {
     "name": "stdout",
     "output_type": "stream",
     "text": [
      "Data has been scraped and stored as us_presidents.json.\n"
     ]
    }
   ],
   "source": [
    "#3 Scrape the presidents table and store the data as json(https://en.wikipedia.org/wiki/List_of_presidents_of_the_United_States). The table is not very structured and the scrapping may take very long time.\n",
    "\n",
    "url = 'https://en.wikipedia.org/wiki/List_of_presidents_of_the_United_States'\n",
    "\n",
    "#sending a request to the url\n",
    "response = requests.get(url)\n",
    "\n",
    "# Checking if the request was successful\n",
    "if response.status_code == 200:\n",
    "    # Parse the HTML content using BeautifulSoup\n",
    "    soup = BeautifulSoup(response.content, 'html.parser')\n",
    "\n",
    "    # Find the table containing information about U.S. presidents\n",
    "    presidents_table = soup.find('table', {'class': 'wikitable'})\n",
    "\n",
    "    if presidents_table:\n",
    "        # Extracting data from the table\n",
    "        data = []\n",
    "        headers = [header.text.strip() for header in presidents_table.find_all('th')]\n",
    "        rows = presidents_table.find_all('tr')[1:]  # Skip the header row\n",
    "\n",
    "        for row in rows:\n",
    "            row_data = [cell.text.strip() for cell in row.find_all(['td', 'th'])]\n",
    "            data.append(dict(zip(headers, row_data)))\n",
    "\n",
    "        # Storing the data as a JSON file\n",
    "        with open('us_presidents.json', 'w', encoding='utf-8') as json_file:\n",
    "            json.dump(data, json_file, ensure_ascii=False, indent=4)\n",
    "\n",
    "        print(\"Data has been scraped and stored as us_presidents.json.\")\n",
    "    else:\n",
    "        print(\"Error: Presidents table not found on the page.\")\n",
    "else:\n",
    "    print(f\"Error: Unable to fetch the webpage. Status code: {response.status_code}\")\n"
   ]
  }
 ],
 "metadata": {
  "kernelspec": {
   "display_name": "datascience",
   "language": "python",
   "name": "python3"
  },
  "language_info": {
   "codemirror_mode": {
    "name": "ipython",
    "version": 3
   },
   "file_extension": ".py",
   "mimetype": "text/x-python",
   "name": "python",
   "nbconvert_exporter": "python",
   "pygments_lexer": "ipython3",
   "version": "3.8.18"
  }
 },
 "nbformat": 4,
 "nbformat_minor": 2
}
