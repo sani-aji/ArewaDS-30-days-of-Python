{
 "cells": [
  {
   "cell_type": "code",
   "execution_count": 8,
   "metadata": {},
   "outputs": [
    {
     "name": "stdout",
     "output_type": "stream",
     "text": [
      "dmbQ7G\n"
     ]
    }
   ],
   "source": [
    "# Writ a function which generates a six digit/character random_user_id.\n",
    "import random\n",
    "#help(random)\n",
    "import string\n",
    "\n",
    "def random_user_id():\n",
    "    user_id = ''.join(random.choices(string.ascii_letters + string.digits, k=6))\n",
    "    return user_id\n",
    "\n",
    "\n",
    "print(random_user_id())\n"
   ]
  },
  {
   "cell_type": "code",
   "execution_count": 19,
   "metadata": {},
   "outputs": [
    {
     "name": "stdout",
     "output_type": "stream",
     "text": [
      "['fnddv', 'kYOfG', 'sr6Nb', 'mXo5N', 'uPPB3']\n"
     ]
    }
   ],
   "source": [
    "#2 Modify the previous task. Declare a function named user_id_gen_by_user. It doesn’t take any parameters but it takes two inputs using input(). One of the inputs is the number of characters and the second input is the number of IDs which are supposed to be generated.\n",
    "\n",
    "def user_id_gen_by_user():\n",
    "    try:\n",
    "        char_count = int(input(\"Enter the number of characters for each user ID: \"))\n",
    "        id_count = int(input(\"Enter the number of user IDs to generate: \"))\n",
    "        \n",
    "        # Check inputs\n",
    "        if char_count <= 0 or id_count <= 0:\n",
    "            print(\"Please enter valid positive integers for character count and ID count.\")\n",
    "            return\n",
    "\n",
    "        # Generate user IDs\n",
    "        user_ids = []\n",
    "        for _ in range(id_count):\n",
    "            user_id = ''.join(random.choices(string.ascii_letters + string.digits, k=char_count))\n",
    "            user_ids.append(user_id)\n",
    "\n",
    "        return user_ids\n",
    "\n",
    "    except ValueError:\n",
    "        print(\"Please enter valid integers for character count and ID count.\")\n",
    "\n",
    "print(user_id_gen_by_user())\n"
   ]
  },
  {
   "cell_type": "code",
   "execution_count": 21,
   "metadata": {},
   "outputs": [
    {
     "name": "stdout",
     "output_type": "stream",
     "text": [
      "Generated RGB color: (111, 78, 209)\n"
     ]
    }
   ],
   "source": [
    "#3 Write a function named rgb_color_gen. It will generate rgb colors (3 values ranging from 0 to 255 each).\n",
    "\n",
    "def rgb_color_gen():\n",
    "    # Generate random values for Red, Green, and Blue components\n",
    "    red = random.randint(0, 255)\n",
    "    green = random.randint(0, 255)\n",
    "    blue = random.randint(0, 255)\n",
    "\n",
    "    # Return the RGB color as a tuple\n",
    "    return red, green, blue\n",
    "\n",
    "# Example usage:\n",
    "gen_color = rgb_color_gen()\n",
    "print(f\"Generated RGB color: {gen_color}\")\n"
   ]
  },
  {
   "cell_type": "code",
   "execution_count": 22,
   "metadata": {},
   "outputs": [
    {
     "name": "stdout",
     "output_type": "stream",
     "text": [
      "Generated Hexadecimal Colors: ['#6c836c', '#a89ba0', '#a446a6', '#9a176e', '#c52d18']\n"
     ]
    }
   ],
   "source": [
    "#Level 2\n",
    "#1 Write a function list_of_hexa_colors which returns any number of hexadecimal colors in an array (six hexadecimal numbers written after #. Hexadecimal numeral system is made out of 16 symbols, 0-9 and first 6 letters of the alphabet, a-f. Check the task 6 for output examples).\n",
    "import random\n",
    "\n",
    "def list_of_hexa_colors(num_colors):\n",
    "    hexa_colors = []\n",
    "\n",
    "    for _ in range(num_colors):\n",
    "        # Generate a random hexadecimal color\n",
    "        color = \"#{:06x}\".format(random.randint(0, 0xFFFFFF))\n",
    "        hexa_colors.append(color)\n",
    "\n",
    "    return hexa_colors\n",
    "\n",
    "# trying\n",
    "num_of_colors = 5\n",
    "generated_colors = list_of_hexa_colors(num_of_colors)\n",
    "print(f\"Generated Hexadecimal Colors: {generated_colors}\")\n"
   ]
  },
  {
   "cell_type": "code",
   "execution_count": 23,
   "metadata": {},
   "outputs": [
    {
     "name": "stdout",
     "output_type": "stream",
     "text": [
      "Generated RGB Colors: [(57, 152, 11), (167, 228, 123), (197, 68, 164), (180, 45, 91), (169, 128, 130)]\n"
     ]
    }
   ],
   "source": [
    "#2 Write a function list_of_rgb_colors which returns any number of RGB colors in an array.\n",
    "import random\n",
    "\n",
    "def list_of_rgb_colors(num_colors):\n",
    "    rgb_colors = []\n",
    "\n",
    "    for _ in range(num_colors):\n",
    "        # Generate random values for Red, Green, and Blue components\n",
    "        red = random.randint(0, 255)\n",
    "        green = random.randint(0, 255)\n",
    "        blue = random.randint(0, 255)\n",
    "\n",
    "        # Append the RGB color as a tuple to the list\n",
    "        rgb_colors.append((red, green, blue))\n",
    "\n",
    "    return rgb_colors\n",
    "\n",
    "# Example usage:\n",
    "num_of_colors = 5\n",
    "generated_colors = list_of_rgb_colors(num_of_colors)\n",
    "print(f\"Generated RGB Colors: {generated_colors}\")\n"
   ]
  },
  {
   "cell_type": "code",
   "execution_count": 24,
   "metadata": {},
   "outputs": [
    {
     "name": "stdout",
     "output_type": "stream",
     "text": [
      "Generated Hexadecimal Colors: ['#8357d8', '#cb5e62', '#30700a', '#cecd62', '#6ae4cb']\n",
      "Generated RGB Colors: [(51, 119, 194), (224, 77, 195), (73, 32, 100), (170, 165, 14), (178, 33, 202)]\n"
     ]
    }
   ],
   "source": [
    "#3 Write a function generate_colors which can generate any number of hexa or rgb colors.\n",
    "\n",
    "\n",
    "def generate_colors(num_colors, color_format=\"hex\"):\n",
    "    colors = []\n",
    "\n",
    "    for _ in range(num_colors):\n",
    "        if color_format == \"hex\":\n",
    "            # Generate a random hexadecimal color\n",
    "            color = \"#{:06x}\".format(random.randint(0, 0xFFFFFF))\n",
    "        elif color_format == \"rgb\":\n",
    "            # Generate random values for Red, Green, and Blue components\n",
    "            red = random.randint(0, 255)\n",
    "            green = random.randint(0, 255)\n",
    "            blue = random.randint(0, 255)\n",
    "            color = (red, green, blue)\n",
    "        else:\n",
    "            raise ValueError(\"Invalid color format. Use 'hex' or 'rgb'.\")\n",
    "\n",
    "        # Append the color to the list\n",
    "        colors.append(color)\n",
    "\n",
    "    return colors\n",
    "\n",
    "# trial:\n",
    "num_of_colors = 5\n",
    "generated_hex_colors = generate_colors(num_of_colors, color_format=\"hex\")\n",
    "generated_rgb_colors = generate_colors(num_of_colors, color_format=\"rgb\")\n",
    "\n",
    "print(f\"Generated Hexadecimal Colors: {generated_hex_colors}\")\n",
    "print(f\"Generated RGB Colors: {generated_rgb_colors}\")\n"
   ]
  },
  {
   "cell_type": "code",
   "execution_count": 25,
   "metadata": {},
   "outputs": [
    {
     "name": "stdout",
     "output_type": "stream",
     "text": [
      "Original List: [1, 2, 3, 4, 5]\n",
      "Shuffled List: [4, 1, 3, 5, 2]\n"
     ]
    }
   ],
   "source": [
    "#Level 3\n",
    "#1 Call your function shuffle_list, it takes a list as a parameter and it returns a shuffled list\n",
    "#import random\n",
    "\n",
    "def shuffle_list(input_list):\n",
    "    shuffled_list = input_list.copy()  # Create a copy to avoid modifying the original list\n",
    "    random.shuffle(shuffled_list)\n",
    "    return shuffled_list\n",
    "\n",
    "# Example usage:\n",
    "original_list = [1, 2, 3, 4, 5]\n",
    "shuffled_result = shuffle_list(original_list)\n",
    "\n",
    "print(f\"Original List: {original_list}\")\n",
    "print(f\"Shuffled List: {shuffled_result}\")\n"
   ]
  },
  {
   "cell_type": "code",
   "execution_count": 27,
   "metadata": {},
   "outputs": [
    {
     "name": "stdout",
     "output_type": "stream",
     "text": [
      "Generated Unique Numbers: [5, 1, 7, 0, 3, 2, 9]\n"
     ]
    }
   ],
   "source": [
    "#2 Write a function which returns an array of seven random numbers in a range of 0-9. All the numbers must be unique.\n",
    "\n",
    "def generate_unique_numbers():\n",
    "    unique_numbers = random.sample(range(10), 7)\n",
    "    return unique_numbers\n",
    "\n",
    "# trial:\n",
    "random_numbers = generate_unique_numbers()\n",
    "print(f\"Generated Unique Numbers: {random_numbers}\")\n"
   ]
  },
  {
   "cell_type": "code",
   "execution_count": null,
   "metadata": {},
   "outputs": [],
   "source": []
  }
 ],
 "metadata": {
  "kernelspec": {
   "display_name": "datascience",
   "language": "python",
   "name": "python3"
  },
  "language_info": {
   "codemirror_mode": {
    "name": "ipython",
    "version": 3
   },
   "file_extension": ".py",
   "mimetype": "text/x-python",
   "name": "python",
   "nbconvert_exporter": "python",
   "pygments_lexer": "ipython3",
   "version": "3.8.18"
  }
 },
 "nbformat": 4,
 "nbformat_minor": 2
}
