{
 "cells": [
  {
   "cell_type": "code",
   "execution_count": 82,
   "metadata": {},
   "outputs": [
    {
     "name": "stdout",
     "output_type": "stream",
     "text": [
      "[(6, 'love'), (5, 'you'), (3, 'can'), (2, 'I'), (2, 'teaching'), (2, 'do'), (2, 'not'), (2, 'what'), (2, 'else'), (1, 'If'), (1, 'Python'), (1, 'if'), (1, 'something'), (1, 'which'), (1, 'give'), (1, 'all'), (1, 'the'), (1, 'capabilities'), (1, 'to'), (1, 'develop'), (1, 'an'), (1, 'application')]\n"
     ]
    }
   ],
   "source": [
    "#1 What is the most frequent word in the following paragraph?\n",
    "\n",
    "aragraph = 'I love teaching. If you do not love teaching what else can you love. I love Python if you do not love something which can give you all the capabilities to develop an application what else can you love.'\n",
    "import re\n",
    "regex = r'\\b\\w+\\b'\n",
    "from collections import Counter\n",
    "words = re.findall(regex, paragraph)\n",
    "\n",
    "# Count the frequency of each word\n",
    "\n",
    "word_counts = Counter(words)\n",
    "\n",
    "# Create a list of word-count pairs in descending order\n",
    "word_count_list = [(count, word) for word, count in word_counts.most_common()]\n",
    "\n",
    "# Print the list\n",
    "print(word_count_list)\n"
   ]
  },
  {
   "cell_type": "code",
   "execution_count": 83,
   "metadata": {},
   "outputs": [
    {
     "name": "stdout",
     "output_type": "stream",
     "text": [
      "['-12', '-4', '-3', '-1', '0', '4', '8']\n",
      "[-12, -4, -3, -1, 0, 4, 8]\n",
      "20\n"
     ]
    }
   ],
   "source": [
    "#2 The position of some particles on the horizontal x-axis are -12, -4, -3 and -1 in the negative direction, 0 at origin, 4 and 8 in the positive direction. Extract these numbers from this whole text and find the distance between the two furthest particles.\n",
    "txt = 'The position of some particles on the horizontal x-axis are -12, -4, -3 and -1 in the negative direction, 0 at origin, 4 and 8 in the positive direction'\n",
    "regex_pattern = r'-?\\d+' \n",
    "matches = re.findall(regex_pattern, txt)\n",
    "print(matches)\n",
    "sorted_matches = sorted(map(int, matches))\n",
    "print(sorted_matches)\n",
    "print(sorted_matches[-1]-sorted_matches[0])"
   ]
  },
  {
   "cell_type": "code",
   "execution_count": 84,
   "metadata": {},
   "outputs": [
    {
     "name": "stdout",
     "output_type": "stream",
     "text": [
      "True\n",
      "False\n",
      "False\n",
      "True\n"
     ]
    }
   ],
   "source": [
    "#Level 2 \n",
    "#1 Write a pattern which identifies if a string is a valid python variable\n",
    "import re\n",
    "\n",
    "def is_valid_variable(txt):\n",
    "    reg_pattern = r'^[a-zA-Z_][a-zA-Z0-9_]*$'\n",
    "    return bool(re.search(reg_pattern, txt))\n",
    "\n",
    "\n",
    "print(is_valid_variable('first_name'))   # True\n",
    "print(is_valid_variable('first-name'))   # False\n",
    "print(is_valid_variable('1first_name'))   # False\n",
    "print(is_valid_variable('firstname'))     # True\n"
   ]
  },
  {
   "cell_type": "code",
   "execution_count": 85,
   "metadata": {},
   "outputs": [
    {
     "name": "stdout",
     "output_type": "stream",
     "text": [
      "[('I', 3), ('a', 2), ('teacher', 2)]\n"
     ]
    }
   ],
   "source": [
    "#Level 3\n",
    "# 1 Clean the following text. After cleaning, count three most frequent words in the string.\n",
    "\n",
    "import re\n",
    "from collections import Counter\n",
    "\n",
    "sentence = '''%I $am@% a %tea@cher%, &and& I lo%#ve %tea@ching%;. There $is nothing; &as& mo@re rewarding as educa@ting &and& @emp%o@wering peo@ple. ;I found tea@ching m%o@re interesting tha@n any other %jo@bs. %Do@es thi%s mo@tivate yo@u to be a tea@cher!?'''\n",
    "\n",
    "clean_sentence = re.sub(r'%|\\$|@|&|#|;', '', sentence) #cleaned\n",
    "\n",
    "# Split the cleaned sentence into words\n",
    "words = re.findall(r'\\b\\w+\\b', clean_sentence)  # This regex captures words\n",
    "\n",
    "# Count the frequency of each word\n",
    "word_counts = Counter(words)\n",
    "\n",
    "# Get the top 3 most frequent words\n",
    "word_count_list = word_counts.most_common(3)\n",
    "\n",
    "# Print the list\n",
    "print(word_count_list)\n"
   ]
  }
 ],
 "metadata": {
  "kernelspec": {
   "display_name": "datascience",
   "language": "python",
   "name": "python3"
  },
  "language_info": {
   "codemirror_mode": {
    "name": "ipython",
    "version": 3
   },
   "file_extension": ".py",
   "mimetype": "text/x-python",
   "name": "python",
   "nbconvert_exporter": "python",
   "pygments_lexer": "ipython3",
   "version": "3.8.18"
  }
 },
 "nbformat": 4,
 "nbformat_minor": 2
}
