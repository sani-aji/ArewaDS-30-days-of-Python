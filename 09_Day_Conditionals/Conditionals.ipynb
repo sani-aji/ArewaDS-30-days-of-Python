{
 "cells": [
  {
   "cell_type": "code",
   "execution_count": null,
   "metadata": {},
   "outputs": [],
   "source": [
    "#1 Get user input using input(“Enter your age: ”). If user is 18 or older, give feedback: You are old enough to drive. If below 18 give feedback to wait for the missing amount of years. Output:\n",
    "age = int(input('Please enter your age',))\n",
    "if age >= 18:\n",
    "    print(\"You are old enough to drive\")\n",
    "else:\n",
    "    print(\"You need\", 18 - age, \" more years to start driving\")"
   ]
  },
  {
   "cell_type": "code",
   "execution_count": null,
   "metadata": {},
   "outputs": [],
   "source": [
    "#2 Compare the values of my_age and your_age using if … else. Who is older (me or you)? Use input(“Enter your age: ”) to get the age as input. You can use a nested condition to print 'year' for 1 year difference in age, 'years' for bigger differences, and a custom text if my_age = your_age. Output:\n",
    "my_age = int(input('enter your age',))\n",
    "your_age = int(input('enter your age',))\n",
    "if my_age > your_age:\n",
    "    if my_age - your_age == 1:\n",
    "        print('I am one year older than you')\n",
    "    else:\n",
    "        print('I am', my_age-your_age, 'years older than you')\n",
    "elif your_age > my_age:\n",
    "    if your_age-my_age == 1:\n",
    "        print('you are one year older than me')\n",
    "    else:\n",
    "        print('you are', your_age-my_age, \"years older than me\")\n",
    "#elif my_age == your_age:\n",
    " #   print('We are age mates')\n",
    "else:\n",
    "    print('Wow! we are age mates :)')\n"
   ]
  },
  {
   "cell_type": "code",
   "execution_count": null,
   "metadata": {},
   "outputs": [],
   "source": [
    "#3 Get two numbers from the user using input prompt. If a is greater than b return a is greater than b, if a is less b return a is smaller than b, else a is equal to b. Output:\n",
    "a = int(input('enter a number'))\n",
    "b = int(input('enter a number'))\n",
    "if a>b:\n",
    "    print(\"a is greater than b\")\n",
    "elif b>a:\n",
    "    print('a is smaller')\n",
    "else:\n",
    "    print('a is equal to b')"
   ]
  },
  {
   "cell_type": "code",
   "execution_count": null,
   "metadata": {},
   "outputs": [],
   "source": [
    "#Level 2 \n",
    "#1 Write a code which gives grade to students according to theirs scores:\n",
    "\n",
    "#80-100, A\n",
    "#70-89, B\n",
    "#60-69, C\n",
    "#50-59, D\n",
    "#0-49, F\n",
    "scores = float(input('enter student score',))\n",
    "if scores >100 or scores <0:\n",
    "    print('please enter a score between 0 & 100')\n",
    "elif scores >=80 and scores<=100:\n",
    "    print('A')\n",
    "elif scores >=70 and scores<=79:\n",
    "    print('B')\n",
    "elif scores >=60 and scores<=69:\n",
    "    print('C')\n",
    "elif scores >=50 and scores<=59:\n",
    "    print('D')\n",
    "else:\n",
    "    print('F')\n"
   ]
  },
  {
   "cell_type": "code",
   "execution_count": null,
   "metadata": {},
   "outputs": [],
   "source": [
    "#2 Check if the season is Autumn, Winter, Spring or Summer. If the user input is: September, October or November, the season is Autumn. December, January or February, the season is Winter. March, April or May, the season is Spring June, July or August, the season is Summer\n",
    "\n",
    "month = str(input(\"Enter month name\",))\n",
    "if month ==\"September\" or month == \"October\" or  month == \"November\":\n",
    "    print('The seoson is Autumn')\n",
    "elif month ==\"December\" or month == \"January\" or month == \"February\":\n",
    "    print('The seoson is Winter')\n",
    "elif month ==\"March\" or month ==\"April\" or month ==\"May\":\n",
    "    print('The seoson is Spring')\n",
    "else:\n",
    "    print('The seoson is Summer')"
   ]
  },
  {
   "cell_type": "code",
   "execution_count": null,
   "metadata": {},
   "outputs": [],
   "source": [
    "#2 he following list contains some fruits:\n",
    "\n",
    "fruits = ['banana', 'orange', 'mango', 'lemon']\n",
    "#If a fruit doesn't exist in the list add the fruit to the list and print the modified list. If the fruit exists print('That fruit already exist in the list')\n",
    "frt = str(input('give a name of a fruit',))\n",
    "if frt in fruits:\n",
    "    print('The fruit you entered is already in the list')\n",
    "else:\n",
    "    fruits.append(frt)\n",
    "print(fruits)"
   ]
  },
  {
   "cell_type": "code",
   "execution_count": null,
   "metadata": {},
   "outputs": [],
   "source": [
    "# Level 3\n",
    "#Here we have a person dictionary. Feel free to modify it!\n",
    "\n",
    "person={\n",
    "    'first_name': 'Asabeneh',\n",
    "    'last_name': 'Yetayeh',\n",
    "    'age': 250,\n",
    "    'country': 'Finland',\n",
    "    'is_marred': True,\n",
    "    'skills': ['JavaScript', 'React', 'Node', 'MongoDB', 'Python'],\n",
    "    'address': { 'street': 'Space street', 'zipcode': '02210'}\n",
    "    }\n",
    "if 'skills' in person:\n",
    "     print(person.get('skills')[2])"
   ]
  },
  {
   "cell_type": "code",
   "execution_count": null,
   "metadata": {},
   "outputs": [],
   "source": [
    "#Check if the person dictionary has skills key, if so check if the person has 'Python' skill and print out the result.\n",
    "\n",
    "if 'skills' in person:\n",
    "    if 'Python' in person['skills']:\n",
    "        print('He has a Pyhton skill')\n",
    "    else:\n",
    "        print('he dont have a Python skill')\n",
    "else:\n",
    "    print('The disctionary does not contain skills key')\n"
   ]
  },
  {
   "cell_type": "code",
   "execution_count": null,
   "metadata": {},
   "outputs": [],
   "source": [
    "#If a person skills has only JavaScript and React, print('He is a front end developer'), if the person skills has Node, Python, MongoDB, print('He is a backend developer'), if the person skills has React, Node and MongoDB, Print('He is a fullstack developer'), else print('unknown title') - for more accurate results more conditions can be nested!\n",
    "list_skills = person.get('skills')\n",
    "if 'JavaScript' in list_skills and 'React' in list_skills and len(list_skills)==2:\n",
    "    print('He is a front end developer')\n",
    "elif 'Node' in list_skills and 'Python' in list_skills and  'MongoDB' in list_skills:\n",
    "    print('He is a backend developer')\n",
    "elif 'React' in list_skills and 'Node' in list_skills and  'MongoDB' in list_skills:\n",
    "    print('He is a fullstack developer')\n",
    "else:\n",
    "    print('unknown title')\n",
    "\n",
    "\n"
   ]
  },
  {
   "cell_type": "code",
   "execution_count": null,
   "metadata": {},
   "outputs": [],
   "source": [
    "# If the person is married and if he lives in Finland, print the information in the following format:\n",
    "if person['is_marred'] == True and person['country'] == 'Finland':\n",
    "   print(f\"{person['first_name']} {person['last_name']} is married and lives in {person['country']}.\")"
   ]
  },
  {
   "cell_type": "code",
   "execution_count": null,
   "metadata": {},
   "outputs": [],
   "source": []
  }
 ],
 "metadata": {
  "kernelspec": {
   "display_name": "datascience",
   "language": "python",
   "name": "python3"
  },
  "language_info": {
   "codemirror_mode": {
    "name": "ipython",
    "version": 3
   },
   "file_extension": ".py",
   "mimetype": "text/x-python",
   "name": "python",
   "nbconvert_exporter": "python",
   "pygments_lexer": "ipython3",
   "version": "3.8.18"
  }
 },
 "nbformat": 4,
 "nbformat_minor": 2
}
