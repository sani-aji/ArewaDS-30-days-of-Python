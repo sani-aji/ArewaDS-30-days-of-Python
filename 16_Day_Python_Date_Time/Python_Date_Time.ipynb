{
 "cells": [
  {
   "cell_type": "code",
   "execution_count": 35,
   "metadata": {},
   "outputs": [
    {
     "name": "stdout",
     "output_type": "stream",
     "text": [
      "18\n",
      "12\n",
      "2023\n",
      "23\n",
      "23\n",
      "17\n",
      "18 12 2023 23 23\n",
      "timestamp 1702938197.405641\n",
      "18/12/2023, 23:23\n"
     ]
    }
   ],
   "source": [
    "#1 Get the current day, month, year, hour, minute and timestamp from datetime module\n",
    "from datetime import datetime\n",
    "now= datetime.now()\n",
    "#current day                   \n",
    "day = now.day  \n",
    "print(day)   \n",
    "#current month              \n",
    "month = now.month \n",
    "print(month) \n",
    "#current year\n",
    "year = now.year \n",
    "print(year)   \n",
    "#current hour            \n",
    "hour = now.hour  \n",
    "print(hour)   \n",
    "#current minutes           \n",
    "minute = now.minute \n",
    "print(minute)  \n",
    "#current second         \n",
    "second = now.second\n",
    "print(second)\n",
    "timestamp = now.timestamp()  #This gives the second elapsed from 1970 to date\n",
    "print(day, month, year, hour, minute)\n",
    "print('timestamp', timestamp)\n",
    "print(f'{day}/{month}/{year}, {hour}:{minute}') \n"
   ]
  },
  {
   "cell_type": "code",
   "execution_count": 36,
   "metadata": {},
   "outputs": [
    {
     "name": "stdout",
     "output_type": "stream",
     "text": [
      "formatted_current_date: 12/18/2023, 23:23:17\n"
     ]
    }
   ],
   "source": [
    "#2 Format the current date using this format: \"%m/%d/%Y, %H:%M:%S\")\n",
    "from datetime import datetime\n",
    "# current date formatting\n",
    "now = datetime.now()\n",
    "current_date_formatted = now.strftime(\"%m/%d/%Y, %H:%M:%S\")\n",
    "print(\"formatted_current_date:\", current_date_formatted)"
   ]
  },
  {
   "cell_type": "code",
   "execution_count": 37,
   "metadata": {},
   "outputs": [
    {
     "name": "stdout",
     "output_type": "stream",
     "text": [
      "5 December, 2019\n",
      "2019-12-05 00:00:00\n"
     ]
    }
   ],
   "source": [
    "#3 Today is 5 December, 2019. Change this time string to time.\n",
    "from datetime import datetime\n",
    "given_date_string = \"5 December, 2019\"\n",
    "#to print this date as string we can just print\n",
    "print(given_date_string)\n",
    "#but to change it to date\n",
    "date_form = datetime.strptime(given_date_string, \"%d %B, %Y\")\n",
    "print(date_form)"
   ]
  },
  {
   "cell_type": "code",
   "execution_count": 38,
   "metadata": {},
   "outputs": [
    {
     "name": "stdout",
     "output_type": "stream",
     "text": [
      "Time left for new year:  14 days, 0:00:00\n"
     ]
    }
   ],
   "source": [
    "#4 Calculate the time difference between now and new year.\n",
    "today = date(year=2023, month=12, day=18)\n",
    "new_year = date(year=2024, month=1, day=1)\n",
    "time_left_for_newyear = new_year - today\n",
    "print('Time left for new year: ', time_left_for_newyear)\n",
    "\n"
   ]
  },
  {
   "cell_type": "code",
   "execution_count": 39,
   "metadata": {},
   "outputs": [
    {
     "name": "stdout",
     "output_type": "stream",
     "text": [
      "19709 days, 0:00:00\n"
     ]
    }
   ],
   "source": [
    "#5 Calculate the time difference between 1 January 1970 and now.\n",
    "date1 = date(year = 1970, month = 1, day = 1)\n",
    "date2 = date(year = 2023, month = 12, day = 18)\n",
    "print(date2-date1)"
   ]
  },
  {
   "cell_type": "code",
   "execution_count": 40,
   "metadata": {},
   "outputs": [],
   "source": [
    "# Think, what can you use the datetime module for? Examples:\n",
    "#Time series analysis\n",
    "#To get a timestamp of any activities in an application\n",
    "#Adding posts on a blog\n",
    "\n",
    "#I can use it for data analysis.For example if I want to analyse different data involiving dates in different format"
   ]
  }
 ],
 "metadata": {
  "kernelspec": {
   "display_name": "datascience",
   "language": "python",
   "name": "python3"
  },
  "language_info": {
   "codemirror_mode": {
    "name": "ipython",
    "version": 3
   },
   "file_extension": ".py",
   "mimetype": "text/x-python",
   "name": "python",
   "nbconvert_exporter": "python",
   "pygments_lexer": "ipython3",
   "version": "3.8.18"
  }
 },
 "nbformat": 4,
 "nbformat_minor": 2
}
