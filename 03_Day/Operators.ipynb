{
 "cells": [
  {
   "cell_type": "code",
   "execution_count": null,
   "metadata": {},
   "outputs": [],
   "source": [
    "#1 Declare your age as integer variable\n",
    "my_age = int(200)\n",
    "print(my_age)\n",
    "\n",
    "#2 Declare your height as a float variable\n",
    "my_height = float(175)\n",
    "print(my_height, 'cm')\n",
    "\n",
    "#3 Declare a variable that store a complex number\n",
    "compl_var = 2+3j\n",
    "print(compl_var)"
   ]
  },
  {
   "cell_type": "code",
   "execution_count": null,
   "metadata": {},
   "outputs": [],
   "source": [
    "#4 Write a script that prompts the user to enter base and height of the triangle and calculate an area of this triangle (area = 0.5 x b x h)\n",
    "base = float(input('enter the base',))\n",
    "height = float(input('enter the height',))\n",
    "area = 1/2 * base * height\n",
    "print('The area of the triangle is: ', area)"
   ]
  },
  {
   "cell_type": "code",
   "execution_count": null,
   "metadata": {},
   "outputs": [],
   "source": [
    "#5 Write a script that prompts the user to enter side a, side b, and side c of the triangle. Calculate the perimeter of the triangle (perimeter = a + b + c).\n",
    "side_a = float(input('enter the first side of the triangle',))\n",
    "side_b = float(input('enter the second side of the triangle',))\n",
    "side_c = float(input('enter the third side of the triangle',))\n",
    "perimeter = side_a + side_b + side_c\n",
    "print('The perimeter of the triangle is: ', perimeter)\n"
   ]
  },
  {
   "cell_type": "code",
   "execution_count": null,
   "metadata": {},
   "outputs": [],
   "source": [
    "#6 Get length and width of a rectangle using prompt. Calculate its area (area = length x width) and perimeter (perimeter = 2 x (length + width))\n",
    "length = float(input('enter the length',))\n",
    "width = float(input('enter the width',))\n",
    "area_rectangle = length * width\n",
    "print('The area of the rectangle is: ', area_rectangle)"
   ]
  },
  {
   "cell_type": "code",
   "execution_count": null,
   "metadata": {},
   "outputs": [],
   "source": [
    "\n",
    "#7Get radius of a circle using prompt. Calculate the area (area = pi x r x r) and circumference (c = 2 x pi x r) where pi = 3.14.\n",
    "\n",
    "import math\n",
    "r = float(input('enter the radius',))\n",
    "area_of_a_circle = math.pi* 30**2       #alternatively 22/7* 30**2\n",
    "print(area_of_a_circle, 'm^2')\n",
    "\n"
   ]
  },
  {
   "cell_type": "code",
   "execution_count": null,
   "metadata": {},
   "outputs": [],
   "source": [
    "#circunference\n",
    "r = float(input('enter the radius',))\n",
    "circunference_of_a_circle = 2*math.pi*r      #alternatively 22/7* 30**2\n",
    "print(circunference_of_a_circle, 'm')\n"
   ]
  },
  {
   "cell_type": "code",
   "execution_count": null,
   "metadata": {},
   "outputs": [],
   "source": [
    "#Calculate the slope, x-intercept and y-intercept of y = 2x -2\n",
    "#slope_intercept form y=mx+b where m is slope and b is y intercept\n",
    "slope1 = 2\n",
    "y_intercept = -2\n",
    "x_intercept = 1 #because if we let the eqn to 0, 2x=2 and x =1 which is the x intercept\n",
    "print(slope1)\n",
    "print(y_intercept)\n",
    "print(x_intercept)"
   ]
  },
  {
   "cell_type": "code",
   "execution_count": null,
   "metadata": {},
   "outputs": [],
   "source": [
    "#Slope is (m = y2-y1/x2-x1). Find the slope and Euclidean distance between point (2, 2) and point (6,10)\n",
    "x1 = 2\n",
    "x2 = 6\n",
    "y1 = 2\n",
    "y2 = 10\n",
    "slope2 = (y2 - y1)/(x2-x1)\n",
    "euclidian_distance = ((y1-x1)**2 + (y2-x2)**2)**0.5\n",
    "print('The slope is: ',slope2)\n",
    "print('The distance is: ',euclidian_distance)\n"
   ]
  },
  {
   "cell_type": "code",
   "execution_count": null,
   "metadata": {},
   "outputs": [],
   "source": [
    "#Compare the slopes in tasks 8 and 9.\n",
    "slope1==slope2"
   ]
  },
  {
   "cell_type": "code",
   "execution_count": null,
   "metadata": {},
   "outputs": [],
   "source": [
    "#Calculate the value of y (y = x^2 + 6x + 9). Try to use different x values and figure out at what x value y is going to be 0.\n",
    "#using formula\n",
    "a, b, c = 1, 6, 9\n",
    "x = (-b +- (((b**2 - 4*a*c)**0.5)))/(2*a)\n",
    "print(x)"
   ]
  },
  {
   "cell_type": "code",
   "execution_count": null,
   "metadata": {},
   "outputs": [],
   "source": [
    "#Find the length of 'python' and 'dragon' and make a falsy comparison statement.\n",
    "print(len('python'))\n",
    "print(len('dragon'))\n",
    "\n"
   ]
  },
  {
   "cell_type": "code",
   "execution_count": null,
   "metadata": {},
   "outputs": [],
   "source": [
    "#Falsy comparison\n",
    "print(len('python')>len('dragon'))"
   ]
  },
  {
   "cell_type": "code",
   "execution_count": null,
   "metadata": {},
   "outputs": [],
   "source": [
    "#Use and operator to check if 'on' is found in both 'python' and 'dragon'\n",
    "print('on' in 'python' and 'on' in 'dragon')"
   ]
  },
  {
   "cell_type": "code",
   "execution_count": null,
   "metadata": {},
   "outputs": [],
   "source": [
    "#I hope this course is not full of jargon. Use in operator to check if jargon is in the sentence.\n",
    "print('jargon' in 'I hope this course is not full of jargon')"
   ]
  },
  {
   "cell_type": "code",
   "execution_count": null,
   "metadata": {},
   "outputs": [],
   "source": [
    "#There is no 'on' in both dragon and python\n",
    "print('on' not in 'python' and  'dragon')"
   ]
  },
  {
   "cell_type": "code",
   "execution_count": null,
   "metadata": {},
   "outputs": [],
   "source": [
    "#Find the length of the text python and convert the value to float and convert it to string\n",
    "a = len('python')\n",
    "print(a)\n",
    "print(float(a))\n",
    "print(str(a))"
   ]
  },
  {
   "cell_type": "code",
   "execution_count": null,
   "metadata": {},
   "outputs": [],
   "source": [
    "#Even numbers are divisible by 2 and the remainder is zero. How do you check if a number is even or not using python?\n",
    "n = int(input())\n",
    "if n % 2 == 0:\n",
    "    print('even')\n",
    "else:\n",
    "    print('the number you entered is not an even number')\n",
    "    "
   ]
  },
  {
   "cell_type": "code",
   "execution_count": null,
   "metadata": {},
   "outputs": [],
   "source": [
    "#Check if the floor division of 7 by 3 is equal to the int converted value of 2.7.\n",
    "print(7//3 == int(2.7))"
   ]
  },
  {
   "cell_type": "code",
   "execution_count": null,
   "metadata": {},
   "outputs": [],
   "source": [
    "#Check if type of '10' is equal to type of 10\n",
    "print(type('10')==type(10))"
   ]
  },
  {
   "cell_type": "code",
   "execution_count": null,
   "metadata": {},
   "outputs": [],
   "source": [
    "#Check if int('9.8') is equal to 10\n",
    "print(int(9.8)==10)"
   ]
  },
  {
   "cell_type": "code",
   "execution_count": null,
   "metadata": {},
   "outputs": [],
   "source": [
    "#Writ a script that prompts the user to enter hours and rate per hour. Calculate pay of the person?\n",
    "#Enter hours: 40\n",
    "#Enter rate per hour: 28\n",
    "#Your weekly earning is 1120\n",
    "h = int(input(\"enter number of hours\",))\n",
    "rate = int(input('enter the rate per hour',))\n",
    "pay = h*rate\n",
    "print('Your weekly earning is: ', pay)\n"
   ]
  },
  {
   "cell_type": "code",
   "execution_count": null,
   "metadata": {},
   "outputs": [],
   "source": [
    "#Write a script that prompts the user to enter number of years. Calculate the number of seconds a person can live. Assume a person can live hundred years\n",
    "years = int(input('Enter number of years',))\n",
    "seconds_lived = years*365*24*60*60\n",
    "print('You have lived', seconds_lived, 'seconds')"
   ]
  },
  {
   "cell_type": "code",
   "execution_count": null,
   "metadata": {},
   "outputs": [],
   "source": [
    "#Write a Python script that displays the following table\n",
    "#1 1 1 1 1\n",
    "#2 1 2 4 8\n",
    "#3 1 3 9 27\n",
    "#4 1 4 16 64\n",
    "#5 1 5 25 125\n",
    "# Displaying the table\n",
    "print(\"1 1 1 1 1\")\n",
    "print(\"2 1 2 4 8\")\n",
    "print(\"3 1 3 9 27\")\n",
    "print(\"4 1 4 16 64\")\n",
    "print(\"5 1 5 25 125\")"
   ]
  }
 ],
 "metadata": {
  "kernelspec": {
   "display_name": "datascience",
   "language": "python",
   "name": "python3"
  },
  "language_info": {
   "codemirror_mode": {
    "name": "ipython",
    "version": 3
   },
   "file_extension": ".py",
   "mimetype": "text/x-python",
   "name": "python",
   "nbconvert_exporter": "python",
   "pygments_lexer": "ipython3",
   "version": "3.8.18"
  }
 },
 "nbformat": 4,
 "nbformat_minor": 2
}
