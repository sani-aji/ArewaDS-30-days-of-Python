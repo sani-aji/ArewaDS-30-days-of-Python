{
 "cells": [
  {
   "cell_type": "code",
   "execution_count": null,
   "metadata": {},
   "outputs": [],
   "source": [
    "#Day 2: 30 Days of python programming\n",
    "#1 variable declaration\n",
    "first_name = 'Sani'\n",
    "last_name = 'Aji'\n",
    "full_name = 'Sani Aji'\n",
    "country = 'Nigeria'\n",
    "city = 'Gombe'\n",
    "age = 200\n",
    "year = 2023\n",
    "is_married = True\n",
    "is_true = 'yes'\n",
    "is_light_on = 'no'\n",
    "skills, height, weight = ['excel','python', 'communication'], '200 inches', '60kg'\n",
    "#Level 2\n",
    "#checking data types of the above variables\n",
    "print(type(first_name))\n",
    "print(type(last_name))\n",
    "print(type(full_name))\n",
    "print(type(country))\n",
    "print(type(city))\n",
    "print(type(age))\n",
    "print(type(year))\n",
    "print(type(is_married))\n",
    "print(type(is_true))\n",
    "print(type(is_light_on))\n",
    "print(type(skills))\n",
    "print(type(height))\n",
    "print(type(weight))"
   ]
  },
  {
   "cell_type": "code",
   "execution_count": null,
   "metadata": {},
   "outputs": [],
   "source": [
    "len(first_name)\n"
   ]
  },
  {
   "cell_type": "code",
   "execution_count": null,
   "metadata": {},
   "outputs": [],
   "source": [
    "len(last_name)"
   ]
  },
  {
   "cell_type": "code",
   "execution_count": null,
   "metadata": {},
   "outputs": [],
   "source": [
    "print(len(first_name)-len(last_name))"
   ]
  },
  {
   "cell_type": "code",
   "execution_count": null,
   "metadata": {},
   "outputs": [],
   "source": [
    "#4\n",
    "num_one = 5\n",
    "num_two = 4\n",
    "\n",
    "Total = num_one + num_two\n",
    "var_diff = num_one - num_two\n",
    "var_product = num_one*num_two\n",
    "var_division = num_one/num_two\n",
    "var_remainder = num_two % num_one\n",
    "var_exponential = num_one**num_two\n",
    "var_floor_division = num_one // num_two\n",
    "print(Total, var_diff, var_product, var_division, var_remainder, var_exponential, var_floor_division)"
   ]
  },
  {
   "cell_type": "code",
   "execution_count": null,
   "metadata": {},
   "outputs": [],
   "source": [
    "#5 \n",
    "#(i)radius of a circle pi r-square\n",
    "# r = 30 meters\n",
    "import math\n",
    "area_of_a_circle = math.pi* 30**2       #alternatively 22/7* 30**2\n",
    "print(area_of_a_circle, 'm^2')\n"
   ]
  },
  {
   "cell_type": "code",
   "execution_count": null,
   "metadata": {},
   "outputs": [],
   "source": [
    "#(ii) circumference of a circle 2pi r\n",
    "circum_of_circle = 2*math.pi *30 #alternatively 2*22/7 *30\n",
    "print(circum_of_circle, 'm')"
   ]
  },
  {
   "cell_type": "code",
   "execution_count": null,
   "metadata": {},
   "outputs": [],
   "source": [
    "#(iii) take r as input and calculate area\n",
    "r =float(input('Hello, I can calculate area of a circle for you, just give me the radius',))\n",
    "area_circle = math.pi*r**2   #22/7*r**2\n",
    "print(area_circle, 'm^2')"
   ]
  },
  {
   "cell_type": "code",
   "execution_count": null,
   "metadata": {},
   "outputs": [],
   "source": [
    "#6--Use the built-in input function to get first name, last name, country and age from a user and store the value to their corresponding variable names\n",
    "first_name, last_name, country, age = input('please enter your first name',), input('Enter your last name',), input('Enter the name of your country',), input('How old are you?',)\n",
    "print(f'my name is: {first_name}, my last name is: {last_name}, I am from: {country}, I am {age} years old')"
   ]
  },
  {
   "cell_type": "code",
   "execution_count": null,
   "metadata": {},
   "outputs": [],
   "source": [
    "# 7. Python Reserved words\n",
    "help('keywords') "
   ]
  },
  {
   "cell_type": "code",
   "execution_count": null,
   "metadata": {},
   "outputs": [],
   "source": []
  }
 ],
 "metadata": {
  "kernelspec": {
   "display_name": "datascience",
   "language": "python",
   "name": "python3"
  },
  "language_info": {
   "codemirror_mode": {
    "name": "ipython",
    "version": 3
   },
   "file_extension": ".py",
   "mimetype": "text/x-python",
   "name": "python",
   "nbconvert_exporter": "python",
   "pygments_lexer": "ipython3",
   "version": "3.8.18"
  }
 },
 "nbformat": 4,
 "nbformat_minor": 2
}
